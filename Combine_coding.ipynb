{
 "cells": [
  {
   "cell_type": "code",
   "execution_count": 1,
   "id": "e3debe0e",
   "metadata": {},
   "outputs": [
    {
     "name": "stdout",
     "output_type": "stream",
     "text": [
      "Requirement already satisfied: torchaudio in c:\\users\\hp\\anaconda3\\lib\\site-packages (2.1.2)\n",
      "Requirement already satisfied: torch==2.1.2 in c:\\users\\hp\\anaconda3\\lib\\site-packages (from torchaudio) (2.1.2)\n",
      "Requirement already satisfied: sympy in c:\\users\\hp\\anaconda3\\lib\\site-packages (from torch==2.1.2->torchaudio) (1.10.1)\n",
      "Requirement already satisfied: filelock in c:\\users\\hp\\anaconda3\\lib\\site-packages (from torch==2.1.2->torchaudio) (3.6.0)\n",
      "Requirement already satisfied: fsspec in c:\\users\\hp\\anaconda3\\lib\\site-packages (from torch==2.1.2->torchaudio) (2022.2.0)\n",
      "Requirement already satisfied: jinja2 in c:\\users\\hp\\anaconda3\\lib\\site-packages (from torch==2.1.2->torchaudio) (2.11.3)\n",
      "Requirement already satisfied: networkx in c:\\users\\hp\\anaconda3\\lib\\site-packages (from torch==2.1.2->torchaudio) (2.7.1)\n",
      "Requirement already satisfied: typing-extensions in c:\\users\\hp\\anaconda3\\lib\\site-packages (from torch==2.1.2->torchaudio) (4.9.0)\n",
      "Requirement already satisfied: MarkupSafe>=0.23 in c:\\users\\hp\\anaconda3\\lib\\site-packages (from jinja2->torch==2.1.2->torchaudio) (2.0.1)\n",
      "Requirement already satisfied: mpmath>=0.19 in c:\\users\\hp\\anaconda3\\lib\\site-packages (from sympy->torch==2.1.2->torchaudio) (1.2.1)\n",
      "Note: you may need to restart the kernel to use updated packages.\n"
     ]
    }
   ],
   "source": [
    "pip install torchaudio"
   ]
  },
  {
   "cell_type": "code",
   "execution_count": 1,
   "id": "9200d648",
   "metadata": {},
   "outputs": [
    {
     "name": "stdout",
     "output_type": "stream",
     "text": [
      "Tacotron synthesis placeholder\n"
     ]
    },
    {
     "name": "stderr",
     "output_type": "stream",
     "text": [
      "\n",
      "    Error 263 for command:\n",
      "        close neural_network_output_gtts.mp3\n",
      "    The specified device is not open or is not recognized by MCI.\n",
      "Failed to close the file: neural_network_output_gtts.mp3\n"
     ]
    },
    {
     "ename": "KeyboardInterrupt",
     "evalue": "",
     "output_type": "error",
     "traceback": [
      "\u001b[1;31m---------------------------------------------------------------------------\u001b[0m",
      "\u001b[1;31mKeyboardInterrupt\u001b[0m                         Traceback (most recent call last)",
      "Input \u001b[1;32mIn [1]\u001b[0m, in \u001b[0;36m<cell line: 34>\u001b[1;34m()\u001b[0m\n\u001b[0;32m     38\u001b[0m gtts_output, tacotron_output, pyttsx_output \u001b[38;5;241m=\u001b[39m combined_synthesis(input_text)\n\u001b[0;32m     40\u001b[0m \u001b[38;5;66;03m# Play the combined outputs\u001b[39;00m\n\u001b[1;32m---> 41\u001b[0m \u001b[43mplaysound\u001b[49m\u001b[38;5;241;43m.\u001b[39;49m\u001b[43mplaysound\u001b[49m\u001b[43m(\u001b[49m\u001b[38;5;124;43m\"\u001b[39;49m\u001b[38;5;124;43mneural_network_output_gtts.mp3\u001b[39;49m\u001b[38;5;124;43m\"\u001b[39;49m\u001b[43m)\u001b[49m\n\u001b[0;32m     42\u001b[0m \u001b[38;5;66;03m# Play the Tacotron output (replace with your preferred audio playback method)\u001b[39;00m\n\u001b[0;32m     43\u001b[0m \u001b[38;5;28mprint\u001b[39m(\u001b[38;5;124m\"\u001b[39m\u001b[38;5;124mTacotron output:\u001b[39m\u001b[38;5;124m\"\u001b[39m, tacotron_output)\n",
      "File \u001b[1;32m~\\anaconda3\\lib\\site-packages\\playsound.py:73\u001b[0m, in \u001b[0;36m_playsoundWin\u001b[1;34m(sound, block)\u001b[0m\n\u001b[0;32m     71\u001b[0m     logger\u001b[38;5;241m.\u001b[39mdebug(\u001b[38;5;124m'\u001b[39m\u001b[38;5;124mStarting\u001b[39m\u001b[38;5;124m'\u001b[39m)\n\u001b[0;32m     72\u001b[0m     winCommand(\u001b[38;5;124mu\u001b[39m\u001b[38;5;124m'\u001b[39m\u001b[38;5;124mopen \u001b[39m\u001b[38;5;132;01m{}\u001b[39;00m\u001b[38;5;124m'\u001b[39m\u001b[38;5;241m.\u001b[39mformat(sound))\n\u001b[1;32m---> 73\u001b[0m     \u001b[43mwinCommand\u001b[49m\u001b[43m(\u001b[49m\u001b[38;5;124;43mu\u001b[39;49m\u001b[38;5;124;43m'\u001b[39;49m\u001b[38;5;124;43mplay \u001b[39;49m\u001b[38;5;132;43;01m{}\u001b[39;49;00m\u001b[38;5;132;43;01m{}\u001b[39;49;00m\u001b[38;5;124;43m'\u001b[39;49m\u001b[38;5;241;43m.\u001b[39;49m\u001b[43mformat\u001b[49m\u001b[43m(\u001b[49m\u001b[43msound\u001b[49m\u001b[43m,\u001b[49m\u001b[43m \u001b[49m\u001b[38;5;124;43m'\u001b[39;49m\u001b[38;5;124;43m wait\u001b[39;49m\u001b[38;5;124;43m'\u001b[39;49m\u001b[43m \u001b[49m\u001b[38;5;28;43;01mif\u001b[39;49;00m\u001b[43m \u001b[49m\u001b[43mblock\u001b[49m\u001b[43m \u001b[49m\u001b[38;5;28;43;01melse\u001b[39;49;00m\u001b[43m \u001b[49m\u001b[38;5;124;43m'\u001b[39;49m\u001b[38;5;124;43m'\u001b[39;49m\u001b[43m)\u001b[49m\u001b[43m)\u001b[49m\n\u001b[0;32m     74\u001b[0m     logger\u001b[38;5;241m.\u001b[39mdebug(\u001b[38;5;124m'\u001b[39m\u001b[38;5;124mReturning\u001b[39m\u001b[38;5;124m'\u001b[39m)\n\u001b[0;32m     75\u001b[0m \u001b[38;5;28;01mfinally\u001b[39;00m:\n",
      "File \u001b[1;32m~\\anaconda3\\lib\\site-packages\\playsound.py:56\u001b[0m, in \u001b[0;36m_playsoundWin.<locals>.winCommand\u001b[1;34m(*command)\u001b[0m\n\u001b[0;32m     54\u001b[0m buf \u001b[38;5;241m=\u001b[39m c_buffer(bufLen)\n\u001b[0;32m     55\u001b[0m command \u001b[38;5;241m=\u001b[39m \u001b[38;5;124m'\u001b[39m\u001b[38;5;124m \u001b[39m\u001b[38;5;124m'\u001b[39m\u001b[38;5;241m.\u001b[39mjoin(command)\u001b[38;5;241m.\u001b[39mencode(\u001b[38;5;124m'\u001b[39m\u001b[38;5;124mutf-16\u001b[39m\u001b[38;5;124m'\u001b[39m)\n\u001b[1;32m---> 56\u001b[0m errorCode \u001b[38;5;241m=\u001b[39m \u001b[38;5;28mint\u001b[39m(\u001b[43mwindll\u001b[49m\u001b[38;5;241;43m.\u001b[39;49m\u001b[43mwinmm\u001b[49m\u001b[38;5;241;43m.\u001b[39;49m\u001b[43mmciSendStringW\u001b[49m\u001b[43m(\u001b[49m\u001b[43mcommand\u001b[49m\u001b[43m,\u001b[49m\u001b[43m \u001b[49m\u001b[43mbuf\u001b[49m\u001b[43m,\u001b[49m\u001b[43m \u001b[49m\u001b[43mbufLen\u001b[49m\u001b[43m \u001b[49m\u001b[38;5;241;43m-\u001b[39;49m\u001b[43m \u001b[49m\u001b[38;5;241;43m1\u001b[39;49m\u001b[43m,\u001b[49m\u001b[43m \u001b[49m\u001b[38;5;241;43m0\u001b[39;49m\u001b[43m)\u001b[49m)  \u001b[38;5;66;03m# use widestring version of the function\u001b[39;00m\n\u001b[0;32m     57\u001b[0m \u001b[38;5;28;01mif\u001b[39;00m errorCode:\n\u001b[0;32m     58\u001b[0m     errorBuffer \u001b[38;5;241m=\u001b[39m c_buffer(bufLen)\n",
      "\u001b[1;31mKeyboardInterrupt\u001b[0m: "
     ]
    }
   ],
   "source": [
    "from gtts import gTTS\n",
    "import os\n",
    "import playsound\n",
    "import pyttsx3\n",
    "\n",
    "def rule_based_synthesis(text):\n",
    "    return text.upper()\n",
    "\n",
    "def concatenate_synthesis(text):\n",
    "    return text.replace(\" \", \"\")\n",
    "\n",
    "def neural_network_synthesis_gtts(text):\n",
    "    tts = gTTS(text=text, lang='si')\n",
    "    tts.save(\"neural_network_output_gtts.mp3\")\n",
    "\n",
    "def tacotron_synthesis(text):\n",
    "    # Placeholder for Tacotron synthesis\n",
    "    print(\"Tacotron synthesis placeholder\")\n",
    "\n",
    "def neural_network_synthesis_pyttsx(text):\n",
    "    engine = pyttsx3.init()\n",
    "    engine.save_to_file(text, \"neural_network_output_pyttsx.mp3\")\n",
    "    engine.runAndWait()\n",
    "\n",
    "def combined_synthesis(text):\n",
    "    rule_based_output = rule_based_synthesis(text)\n",
    "    concat_output = concatenate_synthesis(rule_based_output)\n",
    "    neural_output_gtts = neural_network_synthesis_gtts(concat_output)\n",
    "    tacotron_output = tacotron_synthesis(concat_output)\n",
    "    neural_output_pyttsx = neural_network_synthesis_pyttsx(concat_output)\n",
    "\n",
    "    return neural_output_gtts, tacotron_output, neural_output_pyttsx\n",
    "\n",
    "if __name__ == \"__main__\":\n",
    "    input_text = \"à·ƒà¶šà¶½ à¶´à·à¶´à¶¸à¶½à·à¶´à¶œà¶¸à¶ºà·™à¶±à·Š à·ƒà·”à¶´à¶»à·’à·à·”à¶¯à·Šà¶° à·€à·– à¶¯\"\n",
    "\n",
    "    # Perform the combined synthesis\n",
    "    gtts_output, tacotron_output, pyttsx_output = combined_synthesis(input_text)\n",
    "\n",
    "    # Play the combined outputs\n",
    "    playsound.playsound(\"neural_network_output_gtts.mp3\")\n",
    "    # Play the Tacotron output (replace with your preferred audio playback method)\n",
    "    print(\"Tacotron output:\", tacotron_output)\n",
    "    os.system(\"start neural_network_output_pyttsx.mp3\")\n"
   ]
  },
  {
   "cell_type": "code",
   "execution_count": null,
   "id": "9f431b0f",
   "metadata": {},
   "outputs": [],
   "source": []
  }
 ],
 "metadata": {
  "kernelspec": {
   "display_name": "Python 3 (ipykernel)",
   "language": "python",
   "name": "python3"
  },
  "language_info": {
   "codemirror_mode": {
    "name": "ipython",
    "version": 3
   },
   "file_extension": ".py",
   "mimetype": "text/x-python",
   "name": "python",
   "nbconvert_exporter": "python",
   "pygments_lexer": "ipython3",
   "version": "3.9.12"
  }
 },
 "nbformat": 4,
 "nbformat_minor": 5
}
