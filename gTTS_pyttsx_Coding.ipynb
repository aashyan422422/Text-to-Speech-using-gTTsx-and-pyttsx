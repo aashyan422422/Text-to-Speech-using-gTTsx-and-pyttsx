{
 "cells": [
  {
   "cell_type": "code",
   "execution_count": 1,
   "id": "e56a60df",
   "metadata": {},
   "outputs": [
    {
     "name": "stdout",
     "output_type": "stream",
     "text": [
      "Requirement already satisfied: pyttsx3 in c:\\users\\hp\\anaconda3\\lib\\site-packages (2.90)\n",
      "Requirement already satisfied: pywin32 in c:\\users\\hp\\anaconda3\\lib\\site-packages (from pyttsx3) (302)\n",
      "Requirement already satisfied: pypiwin32 in c:\\users\\hp\\anaconda3\\lib\\site-packages (from pyttsx3) (223)\n",
      "Requirement already satisfied: comtypes in c:\\users\\hp\\anaconda3\\lib\\site-packages (from pyttsx3) (1.1.10)\n",
      "Note: you may need to restart the kernel to use updated packages.\n"
     ]
    }
   ],
   "source": [
    "pip install pyttsx3"
   ]
  },
  {
   "cell_type": "code",
   "execution_count": 2,
   "id": "2035f63c",
   "metadata": {},
   "outputs": [],
   "source": [
    "from gtts import gTTS\n",
    "import os\n",
    "import playsound\n",
    "import pyttsx3\n",
    "\n",
    "def rule_based_synthesis(text):\n",
    "    return text.upper()\n",
    "\n",
    "def concatenate_synthesis(text):\n",
    "    return text.replace(\" \", \"\")\n",
    "\n",
    "def neural_network_synthesis_gtts(text):\n",
    "    tts = gTTS(text=text, lang='si')\n",
    "    tts.save(\"neural_network_output_gtts.mp3\")\n",
    "\n",
    "def neural_network_synthesis_pyttsx(text):\n",
    "    engine = pyttsx3.init()\n",
    "    engine.save_to_file(text, \"neural_network_output_pyttsx.mp3\")\n",
    "    engine.runAndWait()\n",
    "\n",
    "def combined_synthesis(text):\n",
    "    rule_based_output = rule_based_synthesis(text)\n",
    "    concat_output = concatenate_synthesis(rule_based_output)\n",
    "    neural_output_gtts = neural_network_synthesis_gtts(concat_output)\n",
    "    neural_output_pyttsx = neural_network_synthesis_pyttsx(concat_output)\n",
    "\n",
    "    return neural_output_gtts, neural_output_pyttsx\n",
    "\n",
    "if __name__ == \"__main__\":\n",
    "    input_text = \"Sinhala text\"\n",
    "\n",
    "    # Perform the combined synthesis\n",
    "    gtts_output, pyttsx_output = combined_synthesis(input_text)\n",
    "\n",
    "    # Play the combined outputs\n",
    "    playsound.playsound(\"neural_network_output_gtts.mp3\")\n",
    "    os.system(\"start neural_network_output_pyttsx.mp3\")"
   ]
  },
  {
   "cell_type": "code",
   "execution_count": null,
   "id": "6b36ac8c",
   "metadata": {},
   "outputs": [],
   "source": []
  }
 ],
 "metadata": {
  "kernelspec": {
   "display_name": "Python 3 (ipykernel)",
   "language": "python",
   "name": "python3"
  },
  "language_info": {
   "codemirror_mode": {
    "name": "ipython",
    "version": 3
   },
   "file_extension": ".py",
   "mimetype": "text/x-python",
   "name": "python",
   "nbconvert_exporter": "python",
   "pygments_lexer": "ipython3",
   "version": "3.9.12"
  }
 },
 "nbformat": 4,
 "nbformat_minor": 5
}
