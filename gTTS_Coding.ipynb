{
 "cells": [
  {
   "cell_type": "code",
   "execution_count": 1,
   "id": "7cb7d57e",
   "metadata": {},
   "outputs": [
    {
     "name": "stdout",
     "output_type": "stream",
     "text": [
      "Requirement already satisfied: gtts in c:\\users\\hp\\anaconda3\\lib\\site-packages (2.5.0)\n",
      "Requirement already satisfied: click<8.2,>=7.1 in c:\\users\\hp\\anaconda3\\lib\\site-packages (from gtts) (8.0.4)\n",
      "Requirement already satisfied: requests<3,>=2.27 in c:\\users\\hp\\anaconda3\\lib\\site-packages (from gtts) (2.27.1)\n",
      "Requirement already satisfied: colorama in c:\\users\\hp\\anaconda3\\lib\\site-packages (from click<8.2,>=7.1->gtts) (0.4.4)\n",
      "Requirement already satisfied: charset-normalizer~=2.0.0 in c:\\users\\hp\\anaconda3\\lib\\site-packages (from requests<3,>=2.27->gtts) (2.0.4)\n",
      "Requirement already satisfied: idna<4,>=2.5 in c:\\users\\hp\\anaconda3\\lib\\site-packages (from requests<3,>=2.27->gtts) (3.3)\n",
      "Requirement already satisfied: urllib3<1.27,>=1.21.1 in c:\\users\\hp\\anaconda3\\lib\\site-packages (from requests<3,>=2.27->gtts) (1.26.9)\n",
      "Requirement already satisfied: certifi>=2017.4.17 in c:\\users\\hp\\anaconda3\\lib\\site-packages (from requests<3,>=2.27->gtts) (2023.11.17)\n",
      "Note: you may need to restart the kernel to use updated packages.\n"
     ]
    }
   ],
   "source": [
    "pip install gtts"
   ]
  },
  {
   "cell_type": "code",
   "execution_count": 2,
   "id": "aca2f92a",
   "metadata": {},
   "outputs": [],
   "source": [
    "from gtts import gTTS\n",
    "import os\n",
    "import playsound  # Ensure the playsound library is installed: pip install playsound\n",
    "\n",
    "def rule_based_synthesis(text):\n",
    "    return text.upper()\n",
    "\n",
    "def concatenate_synthesis(text):\n",
    "    return text.replace(\" \", \"\")\n",
    "\n",
    "def neural_network_synthesis(text):\n",
    "    tts = gTTS(text=text, lang='si')\n",
    "    tts.save(\"neural_network_output.mp3\")\n",
    "\n",
    "def combined_synthesis(text):\n",
    "    rule_based_output = rule_based_synthesis(text)\n",
    "    concat_output = concatenate_synthesis(rule_based_output)\n",
    "    neural_output = neural_network_synthesis(concat_output)\n",
    "    return neural_output\n",
    "\n",
    "def play_audio(file_path):\n",
    "    playsound.playsound(file_path)\n",
    "\n",
    "if __name__ == \"__main__\":\n",
    "    input_text = \"Sinhala text\"\n",
    "\n",
    "    # Perform the combined synthesis\n",
    "    combined_output = combined_synthesis(input_text)\n",
    "\n",
    "    # Play the combined output\n",
    "    play_audio(\"neural_network_output.mp3\")\n"
   ]
  },
  {
   "cell_type": "code",
   "execution_count": null,
   "id": "4a252d08",
   "metadata": {},
   "outputs": [],
   "source": []
  }
 ],
 "metadata": {
  "kernelspec": {
   "display_name": "Python 3 (ipykernel)",
   "language": "python",
   "name": "python3"
  },
  "language_info": {
   "codemirror_mode": {
    "name": "ipython",
    "version": 3
   },
   "file_extension": ".py",
   "mimetype": "text/x-python",
   "name": "python",
   "nbconvert_exporter": "python",
   "pygments_lexer": "ipython3",
   "version": "3.9.12"
  }
 },
 "nbformat": 4,
 "nbformat_minor": 5
}
