{
 "cells": [
  {
   "cell_type": "code",
   "execution_count": 17,
   "id": "dac64304",
   "metadata": {},
   "outputs": [],
   "source": [
    "# Inside tacotron2.py\n",
    "\n",
    "import torch\n",
    "import torch.nn as nn\n",
    "\n",
    "class Tacotron2(nn.Module):\n",
    "    def __init__(self):\n",
    "        super(Tacotron2, self).__init__()\n",
    "        # Example: Define your Tacotron-2 model architecture\n",
    "        self.encoder = nn.LSTM(input_size=80, hidden_size=256, num_layers=1, batch_first=True)\n",
    "        self.decoder = nn.LSTM(input_size=256, hidden_size=80, num_layers=1, batch_first=True)\n",
    "        self.fc = nn.Linear(80, 1)\n",
    "\n",
    "    def forward(self, x):\n",
    "        # Example: Define the forward pass of your Tacotron-2 model\n",
    "        encoder_output, _ = self.encoder(x)\n",
    "        decoder_input = torch.zeros_like(x[:, :1, :])\n",
    "\n",
    "        for _ in range(x.size(1)):\n",
    "            decoder_output, _ = self.decoder(decoder_input)\n",
    "            output = self.fc(decoder_output)\n",
    "            decoder_input = output\n",
    "\n",
    "        return output\n",
    "\n",
    "    def save_model(self, checkpoint_path):\n",
    "        # Save only the state dictionary\n",
    "        torch.save({'state_dict': self.state_dict()}, checkpoint_path)\n",
    "\n",
    "    def load_model(self, checkpoint_path):\n",
    "        # Load only the state dictionary\n",
    "        state_dict = torch.load(checkpoint_path, map_location=torch.device('cpu'))['state_dict']\n",
    "        self.load_state_dict(state_dict)\n",
    "        self.eval()\n"
   ]
  },
  {
   "cell_type": "code",
   "execution_count": null,
   "id": "888dc2b2",
   "metadata": {},
   "outputs": [],
   "source": []
  }
 ],
 "metadata": {
  "kernelspec": {
   "display_name": "Python 3 (ipykernel)",
   "language": "python",
   "name": "python3"
  },
  "language_info": {
   "codemirror_mode": {
    "name": "ipython",
    "version": 3
   },
   "file_extension": ".py",
   "mimetype": "text/x-python",
   "name": "python",
   "nbconvert_exporter": "python",
   "pygments_lexer": "ipython3",
   "version": "3.9.12"
  }
 },
 "nbformat": 4,
 "nbformat_minor": 5
}
